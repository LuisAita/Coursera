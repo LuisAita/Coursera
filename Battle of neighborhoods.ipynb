{
    "cells": [
        {
            "cell_type": "markdown",
            "metadata": {
                "collapsed": true
            },
            "source": "<H1> Battle of neighborhoods"
        },
        {
            "cell_type": "markdown",
            "metadata": {},
            "source": "###  Toronto vs Vancouver"
        },
        {
            "cell_type": "markdown",
            "metadata": {},
            "source": "Comparing the neighborhoods of the two cities and determine how similar or dissimilar they are"
        },
        {
            "cell_type": "code",
            "execution_count": 9,
            "metadata": {},
            "outputs": [
                {
                    "name": "stdout",
                    "output_type": "stream",
                    "text": "Collecting folium==0.5.0\n  Downloading folium-0.5.0.tar.gz (79 kB)\n\u001b[K     |\u2588\u2588\u2588\u2588\u2588\u2588\u2588\u2588\u2588\u2588\u2588\u2588\u2588\u2588\u2588\u2588\u2588\u2588\u2588\u2588\u2588\u2588\u2588\u2588\u2588\u2588\u2588\u2588\u2588\u2588\u2588\u2588| 79 kB 5.5 MB/s eta 0:00:011\n\u001b[?25hCollecting branca\n  Downloading branca-0.4.1-py3-none-any.whl (24 kB)\nRequirement already satisfied: jinja2 in /opt/conda/envs/Python-3.7-main/lib/python3.7/site-packages (from folium==0.5.0) (2.11.2)\nRequirement already satisfied: requests in /opt/conda/envs/Python-3.7-main/lib/python3.7/site-packages (from folium==0.5.0) (2.24.0)\nRequirement already satisfied: six in /opt/conda/envs/Python-3.7-main/lib/python3.7/site-packages (from folium==0.5.0) (1.15.0)\nRequirement already satisfied: MarkupSafe>=0.23 in /opt/conda/envs/Python-3.7-main/lib/python3.7/site-packages (from jinja2->folium==0.5.0) (1.1.1)\nRequirement already satisfied: certifi>=2017.4.17 in /opt/conda/envs/Python-3.7-main/lib/python3.7/site-packages (from requests->folium==0.5.0) (2020.12.5)\nRequirement already satisfied: urllib3!=1.25.0,!=1.25.1,<1.26,>=1.21.1 in /opt/conda/envs/Python-3.7-main/lib/python3.7/site-packages (from requests->folium==0.5.0) (1.25.9)\nRequirement already satisfied: idna<3,>=2.5 in /opt/conda/envs/Python-3.7-main/lib/python3.7/site-packages (from requests->folium==0.5.0) (2.9)\nRequirement already satisfied: chardet<4,>=3.0.2 in /opt/conda/envs/Python-3.7-main/lib/python3.7/site-packages (from requests->folium==0.5.0) (3.0.4)\nBuilding wheels for collected packages: folium\n  Building wheel for folium (setup.py) ... \u001b[?25ldone\n\u001b[?25h  Created wheel for folium: filename=folium-0.5.0-py3-none-any.whl size=76240 sha256=61d68f6a8db3df5c67f3e3dddc5f8fad430c3f4c71354d9f2efffdef178e8e11\n  Stored in directory: /tmp/wsuser/.cache/pip/wheels/b2/2f/2c/109e446b990d663ea5ce9b078b5e7c1a9c45cca91f377080f8\nSuccessfully built folium\nInstalling collected packages: branca, folium\nSuccessfully installed branca-0.4.1 folium-0.5.0\n"
                }
            ],
            "source": "!pip install folium==0.5.0"
        },
        {
            "cell_type": "code",
            "execution_count": 10,
            "metadata": {},
            "outputs": [
                {
                    "name": "stdout",
                    "output_type": "stream",
                    "text": "folium imported\n"
                }
            ],
            "source": "import pandas as pd\nimport numpy as np\n\nfrom geopy.geocoders import Nominatim\n\nimport requests\n\nimport json \nfrom pandas.io.json import json_normalize\n\nfrom sklearn.cluster import KMeans\n\nimport matplotlib.cm as cm\nimport matplotlib.colors as colors\n\nimport folium\nprint('folium imported')"
        },
        {
            "cell_type": "markdown",
            "metadata": {},
            "source": "### Importing Data from both Toronto and Vancouver to create two Data Frames"
        },
        {
            "cell_type": "markdown",
            "metadata": {},
            "source": "### Toronto"
        },
        {
            "cell_type": "code",
            "execution_count": 29,
            "metadata": {},
            "outputs": [
                {
                    "data": {
                        "text/html": "<div>\n<style scoped>\n    .dataframe tbody tr th:only-of-type {\n        vertical-align: middle;\n    }\n\n    .dataframe tbody tr th {\n        vertical-align: top;\n    }\n\n    .dataframe thead th {\n        text-align: right;\n    }\n</style>\n<table border=\"1\" class=\"dataframe\">\n  <thead>\n    <tr style=\"text-align: right;\">\n      <th></th>\n      <th>Postal Code</th>\n      <th>Neighbourhood</th>\n    </tr>\n  </thead>\n  <tbody>\n    <tr>\n      <th>0</th>\n      <td>M1A</td>\n      <td>Not assigned</td>\n    </tr>\n    <tr>\n      <th>1</th>\n      <td>M2A</td>\n      <td>Not assigned</td>\n    </tr>\n    <tr>\n      <th>2</th>\n      <td>M3A</td>\n      <td>Parkwoods</td>\n    </tr>\n    <tr>\n      <th>3</th>\n      <td>M4A</td>\n      <td>Victoria Village</td>\n    </tr>\n    <tr>\n      <th>4</th>\n      <td>M5A</td>\n      <td>Regent Park, Harbourfront</td>\n    </tr>\n  </tbody>\n</table>\n</div>",
                        "text/plain": "  Postal Code              Neighbourhood\n0         M1A               Not assigned\n1         M2A               Not assigned\n2         M3A                  Parkwoods\n3         M4A           Victoria Village\n4         M5A  Regent Park, Harbourfront"
                    },
                    "execution_count": 29,
                    "metadata": {},
                    "output_type": "execute_result"
                }
            ],
            "source": "toronto_df = pd.read_html('https://en.wikipedia.org/wiki/List_of_postal_codes_of_Canada:_M')[0]\ntoronto_df = toronto_df.drop(columns = ['Borough'], axis=1)\ntoronto_df.head()\n"
        },
        {
            "cell_type": "code",
            "execution_count": 30,
            "metadata": {},
            "outputs": [
                {
                    "data": {
                        "text/html": "<div>\n<style scoped>\n    .dataframe tbody tr th:only-of-type {\n        vertical-align: middle;\n    }\n\n    .dataframe tbody tr th {\n        vertical-align: top;\n    }\n\n    .dataframe thead th {\n        text-align: right;\n    }\n</style>\n<table border=\"1\" class=\"dataframe\">\n  <thead>\n    <tr style=\"text-align: right;\">\n      <th></th>\n      <th>Postal Code</th>\n      <th>Neighborhood</th>\n    </tr>\n  </thead>\n  <tbody>\n    <tr>\n      <th>0</th>\n      <td>M3A</td>\n      <td>Parkwoods</td>\n    </tr>\n    <tr>\n      <th>1</th>\n      <td>M4A</td>\n      <td>Victoria Village</td>\n    </tr>\n    <tr>\n      <th>2</th>\n      <td>M5A</td>\n      <td>Regent Park, Harbourfront</td>\n    </tr>\n    <tr>\n      <th>3</th>\n      <td>M6A</td>\n      <td>Lawrence Manor, Lawrence Heights</td>\n    </tr>\n    <tr>\n      <th>4</th>\n      <td>M7A</td>\n      <td>Queen's Park, Ontario Provincial Government</td>\n    </tr>\n    <tr>\n      <th>...</th>\n      <td>...</td>\n      <td>...</td>\n    </tr>\n    <tr>\n      <th>98</th>\n      <td>M8X</td>\n      <td>The Kingsway, Montgomery Road, Old Mill North</td>\n    </tr>\n    <tr>\n      <th>99</th>\n      <td>M4Y</td>\n      <td>Church and Wellesley</td>\n    </tr>\n    <tr>\n      <th>100</th>\n      <td>M7Y</td>\n      <td>Business reply mail Processing Centre, South C...</td>\n    </tr>\n    <tr>\n      <th>101</th>\n      <td>M8Y</td>\n      <td>Old Mill South, King's Mill Park, Sunnylea, Hu...</td>\n    </tr>\n    <tr>\n      <th>102</th>\n      <td>M8Z</td>\n      <td>Mimico NW, The Queensway West, South of Bloor,...</td>\n    </tr>\n  </tbody>\n</table>\n<p>103 rows \u00d7 2 columns</p>\n</div>",
                        "text/plain": "    Postal Code                                       Neighborhood\n0           M3A                                          Parkwoods\n1           M4A                                   Victoria Village\n2           M5A                          Regent Park, Harbourfront\n3           M6A                   Lawrence Manor, Lawrence Heights\n4           M7A        Queen's Park, Ontario Provincial Government\n..          ...                                                ...\n98          M8X      The Kingsway, Montgomery Road, Old Mill North\n99          M4Y                               Church and Wellesley\n100         M7Y  Business reply mail Processing Centre, South C...\n101         M8Y  Old Mill South, King's Mill Park, Sunnylea, Hu...\n102         M8Z  Mimico NW, The Queensway West, South of Bloor,...\n\n[103 rows x 2 columns]"
                    },
                    "execution_count": 30,
                    "metadata": {},
                    "output_type": "execute_result"
                }
            ],
            "source": "toronto_df.drop(toronto_df.loc[toronto_df['Neighbourhood']=='Not assigned'].index, inplace=True)\ntoronto_df = toronto_df.reset_index(drop=True)\n\ntoronto_df.shape\ntoronto_df.head()\ntoronto_df.rename(columns={\"Neighbourhood\": \"Neighborhood\"})"
        },
        {
            "cell_type": "code",
            "execution_count": 59,
            "metadata": {},
            "outputs": [
                {
                    "data": {
                        "text/html": "<div>\n<style scoped>\n    .dataframe tbody tr th:only-of-type {\n        vertical-align: middle;\n    }\n\n    .dataframe tbody tr th {\n        vertical-align: top;\n    }\n\n    .dataframe thead th {\n        text-align: right;\n    }\n</style>\n<table border=\"1\" class=\"dataframe\">\n  <thead>\n    <tr style=\"text-align: right;\">\n      <th></th>\n      <th>Postal Code</th>\n      <th>Latitude</th>\n      <th>Longitude</th>\n    </tr>\n  </thead>\n  <tbody>\n    <tr>\n      <th>0</th>\n      <td>M1B</td>\n      <td>43.806686</td>\n      <td>-79.194353</td>\n    </tr>\n    <tr>\n      <th>1</th>\n      <td>M1C</td>\n      <td>43.784535</td>\n      <td>-79.160497</td>\n    </tr>\n    <tr>\n      <th>2</th>\n      <td>M1E</td>\n      <td>43.763573</td>\n      <td>-79.188711</td>\n    </tr>\n    <tr>\n      <th>3</th>\n      <td>M1G</td>\n      <td>43.770992</td>\n      <td>-79.216917</td>\n    </tr>\n    <tr>\n      <th>4</th>\n      <td>M1H</td>\n      <td>43.773136</td>\n      <td>-79.239476</td>\n    </tr>\n  </tbody>\n</table>\n</div>",
                        "text/plain": "  Postal Code   Latitude  Longitude\n0         M1B  43.806686 -79.194353\n1         M1C  43.784535 -79.160497\n2         M1E  43.763573 -79.188711\n3         M1G  43.770992 -79.216917\n4         M1H  43.773136 -79.239476"
                    },
                    "execution_count": 59,
                    "metadata": {},
                    "output_type": "execute_result"
                }
            ],
            "source": "toronto_df_c = pd.read_csv('http://cocl.us/Geospatial_data')\ntoronto_df_c.head()"
        },
        {
            "cell_type": "markdown",
            "metadata": {},
            "source": "### Vancouver"
        },
        {
            "cell_type": "code",
            "execution_count": 58,
            "metadata": {},
            "outputs": [
                {
                    "data": {
                        "text/html": "<div>\n<style scoped>\n    .dataframe tbody tr th:only-of-type {\n        vertical-align: middle;\n    }\n\n    .dataframe tbody tr th {\n        vertical-align: top;\n    }\n\n    .dataframe thead th {\n        text-align: right;\n    }\n</style>\n<table border=\"1\" class=\"dataframe\">\n  <thead>\n    <tr style=\"text-align: right;\">\n      <th></th>\n      <th>0</th>\n      <th>1</th>\n      <th>2</th>\n      <th>3</th>\n      <th>4</th>\n    </tr>\n  </thead>\n  <tbody>\n    <tr>\n      <th>0</th>\n      <td>SL No.</td>\n      <td>Postal Code</td>\n      <td>City</td>\n      <td>Province</td>\n      <td>Area Code</td>\n    </tr>\n    <tr>\n      <th>1</th>\n      <td>1</td>\n      <td>V5K 0A1</td>\n      <td>Vancouver</td>\n      <td>British Columbia</td>\n      <td>604</td>\n    </tr>\n    <tr>\n      <th>2</th>\n      <td>2</td>\n      <td>V5K 0A2</td>\n      <td>Vancouver</td>\n      <td>British Columbia</td>\n      <td>604</td>\n    </tr>\n    <tr>\n      <th>3</th>\n      <td>3</td>\n      <td>V5K 0A3</td>\n      <td>Vancouver</td>\n      <td>British Columbia</td>\n      <td>604</td>\n    </tr>\n    <tr>\n      <th>4</th>\n      <td>4</td>\n      <td>V5K 0A4</td>\n      <td>Vancouver</td>\n      <td>British Columbia</td>\n      <td>604</td>\n    </tr>\n    <tr>\n      <th>5</th>\n      <td>5</td>\n      <td>V5K 0A5</td>\n      <td>Vancouver</td>\n      <td>British Columbia</td>\n      <td>604</td>\n    </tr>\n    <tr>\n      <th>6</th>\n      <td>6</td>\n      <td>V5K 0A6</td>\n      <td>Vancouver</td>\n      <td>British Columbia</td>\n      <td>604</td>\n    </tr>\n    <tr>\n      <th>7</th>\n      <td>7</td>\n      <td>V5K 0A7</td>\n      <td>Vancouver</td>\n      <td>British Columbia</td>\n      <td>604</td>\n    </tr>\n    <tr>\n      <th>8</th>\n      <td>8</td>\n      <td>V5K 0A8</td>\n      <td>Vancouver</td>\n      <td>British Columbia</td>\n      <td>604</td>\n    </tr>\n    <tr>\n      <th>9</th>\n      <td>9</td>\n      <td>V5K 0A9</td>\n      <td>Vancouver</td>\n      <td>British Columbia</td>\n      <td>604</td>\n    </tr>\n    <tr>\n      <th>10</th>\n      <td>10</td>\n      <td>V5K 0B2</td>\n      <td>Vancouver</td>\n      <td>British Columbia</td>\n      <td>604</td>\n    </tr>\n  </tbody>\n</table>\n</div>",
                        "text/plain": "         0            1          2                 3          4\n0   SL No.  Postal Code       City          Province  Area Code\n1        1      V5K 0A1  Vancouver  British Columbia        604\n2        2      V5K 0A2  Vancouver  British Columbia        604\n3        3      V5K 0A3  Vancouver  British Columbia        604\n4        4      V5K 0A4  Vancouver  British Columbia        604\n5        5      V5K 0A5  Vancouver  British Columbia        604\n6        6      V5K 0A6  Vancouver  British Columbia        604\n7        7      V5K 0A7  Vancouver  British Columbia        604\n8        8      V5K 0A8  Vancouver  British Columbia        604\n9        9      V5K 0A9  Vancouver  British Columbia        604\n10      10      V5K 0B2  Vancouver  British Columbia        604"
                    },
                    "execution_count": 58,
                    "metadata": {},
                    "output_type": "execute_result"
                }
            ],
            "source": "oc_df = pd.read_html('http://www.postal-code-lookup.com/canada/british-columbia/vancouver-postal-codes')[0]\noc_df"
        },
        {
            "cell_type": "code",
            "execution_count": null,
            "metadata": {},
            "outputs": [],
            "source": "http://www.ciclt.net/sn/clt/capitolimpact/gw_ziplist.aspx?FIPS=06059"
        },
        {
            "cell_type": "code",
            "execution_count": null,
            "metadata": {},
            "outputs": [],
            "source": ""
        },
        {
            "cell_type": "code",
            "execution_count": null,
            "metadata": {},
            "outputs": [],
            "source": ""
        }
    ],
    "metadata": {
        "kernelspec": {
            "display_name": "Python 3.7",
            "language": "python",
            "name": "python3"
        },
        "language_info": {
            "codemirror_mode": {
                "name": "ipython",
                "version": 3
            },
            "file_extension": ".py",
            "mimetype": "text/x-python",
            "name": "python",
            "nbconvert_exporter": "python",
            "pygments_lexer": "ipython3",
            "version": "3.7.9"
        }
    },
    "nbformat": 4,
    "nbformat_minor": 1
}